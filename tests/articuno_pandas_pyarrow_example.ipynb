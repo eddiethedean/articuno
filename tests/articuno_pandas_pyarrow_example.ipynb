{
  "cells": [
    {
      "cell_type": "markdown",
      "metadata": {},
      "source": [
        "# 🧬 Articuno Example: Pandas with PyArrow columns\n",
        "\n",
        "This example demonstrates using Articuno to infer a Pydantic model from a Pandas DataFrame using PyArrow extension dtypes."
      ]
    },
    {
      "cell_type": "code",
      "execution_count": null,
      "metadata": {},
      "outputs": [],
      "source": [
        "import pandas as pd\n",
        "from articuno import generate_class_code, infer_pydantic_model\n"
      ]
    },
    {
      "cell_type": "markdown",
      "metadata": {},
      "source": [
        "## ✅ Create a Pandas DataFrame with PyArrow-backed columns"
      ]
    },
    {
      "cell_type": "code",
      "execution_count": 2,
      "metadata": {},
      "outputs": [
        {
          "data": {
            "text/html": [
              "<div>\n",
              "<style scoped>\n",
              "    .dataframe tbody tr th:only-of-type {\n",
              "        vertical-align: middle;\n",
              "    }\n",
              "\n",
              "    .dataframe tbody tr th {\n",
              "        vertical-align: top;\n",
              "    }\n",
              "\n",
              "    .dataframe thead th {\n",
              "        text-align: right;\n",
              "    }\n",
              "</style>\n",
              "<table border=\"1\" class=\"dataframe\">\n",
              "  <thead>\n",
              "    <tr style=\"text-align: right;\">\n",
              "      <th></th>\n",
              "      <th>id</th>\n",
              "      <th>name</th>\n",
              "      <th>score</th>\n",
              "      <th>metadata</th>\n",
              "    </tr>\n",
              "  </thead>\n",
              "  <tbody>\n",
              "    <tr>\n",
              "      <th>0</th>\n",
              "      <td>1</td>\n",
              "      <td>Alice</td>\n",
              "      <td>95.5</td>\n",
              "      <td>{'level': 5, 'active': True}</td>\n",
              "    </tr>\n",
              "    <tr>\n",
              "      <th>1</th>\n",
              "      <td>2</td>\n",
              "      <td>Bob</td>\n",
              "      <td>88.0</td>\n",
              "      <td>{'level': 3, 'active': False}</td>\n",
              "    </tr>\n",
              "    <tr>\n",
              "      <th>2</th>\n",
              "      <td>3</td>\n",
              "      <td>Charlie</td>\n",
              "      <td>92.3</td>\n",
              "      <td>{'level': None, 'active': True}</td>\n",
              "    </tr>\n",
              "  </tbody>\n",
              "</table>\n",
              "</div>"
            ],
            "text/plain": [
              "   id     name  score                         metadata\n",
              "0   1    Alice   95.5     {'level': 5, 'active': True}\n",
              "1   2      Bob   88.0    {'level': 3, 'active': False}\n",
              "2   3  Charlie   92.3  {'level': None, 'active': True}"
            ]
          },
          "execution_count": 2,
          "metadata": {},
          "output_type": "execute_result"
        }
      ],
      "source": [
        "df = pd.DataFrame({\n",
        "    \"id\": pd.Series([1, 2, 3], dtype=\"int64[pyarrow]\"),\n",
        "    \"name\": pd.Series([\"Alice\", \"Bob\", \"Charlie\"], dtype=\"string[pyarrow]\"),\n",
        "    \"score\": pd.Series([95.5, 88.0, 92.3], dtype=\"float64[pyarrow]\"),\n",
        "    \"metadata\": [\n",
        "        {\"level\": 5, \"active\": True},\n",
        "        {\"level\": 3, \"active\": False},\n",
        "        {\"level\": None, \"active\": True}\n",
        "    ]\n",
        "})\n",
        "\n",
        "df"
      ]
    },
    {
      "cell_type": "markdown",
      "metadata": {},
      "source": [
        "## 🔍 Infer a Pydantic model from this DataFrame"
      ]
    },
    {
      "cell_type": "code",
      "execution_count": 6,
      "metadata": {},
      "outputs": [
        {
          "name": "stdout",
          "output_type": "stream",
          "text": [
            "{\n",
            "  \"$defs\": {\n",
            "    \"metadata_NestedModel\": {\n",
            "      \"properties\": {\n",
            "        \"active\": {\n",
            "          \"anyOf\": [\n",
            "            {\n",
            "              \"type\": \"integer\"\n",
            "            },\n",
            "            {\n",
            "              \"type\": \"null\"\n",
            "            }\n",
            "          ],\n",
            "          \"default\": null,\n",
            "          \"title\": \"Active\"\n",
            "        },\n",
            "        \"level\": {\n",
            "          \"anyOf\": [\n",
            "            {\n",
            "              \"type\": \"integer\"\n",
            "            },\n",
            "            {\n",
            "              \"type\": \"null\"\n",
            "            }\n",
            "          ],\n",
            "          \"default\": null,\n",
            "          \"title\": \"Level\"\n",
            "        }\n",
            "      },\n",
            "      \"title\": \"metadata_NestedModel\",\n",
            "      \"type\": \"object\"\n",
            "    }\n",
            "  },\n",
            "  \"properties\": {\n",
            "    \"id\": {\n",
            "      \"anyOf\": [\n",
            "        {\n",
            "          \"type\": \"integer\"\n",
            "        },\n",
            "        {\n",
            "          \"type\": \"null\"\n",
            "        }\n",
            "      ],\n",
            "      \"default\": null,\n",
            "      \"title\": \"Id\"\n",
            "    },\n",
            "    \"name\": {\n",
            "      \"anyOf\": [\n",
            "        {},\n",
            "        {\n",
            "          \"type\": \"null\"\n",
            "        }\n",
            "      ],\n",
            "      \"default\": null,\n",
            "      \"title\": \"Name\"\n",
            "    },\n",
            "    \"score\": {\n",
            "      \"anyOf\": [\n",
            "        {\n",
            "          \"type\": \"number\"\n",
            "        },\n",
            "        {\n",
            "          \"type\": \"null\"\n",
            "        }\n",
            "      ],\n",
            "      \"default\": null,\n",
            "      \"title\": \"Score\"\n",
            "    },\n",
            "    \"metadata\": {\n",
            "      \"anyOf\": [\n",
            "        {\n",
            "          \"$ref\": \"#/$defs/metadata_NestedModel\"\n",
            "        },\n",
            "        {\n",
            "          \"type\": \"null\"\n",
            "        }\n",
            "      ],\n",
            "      \"default\": null\n",
            "    }\n",
            "  },\n",
            "  \"title\": \"UserWithArrow\",\n",
            "  \"type\": \"object\"\n",
            "}\n"
          ]
        },
        {
          "name": "stderr",
          "output_type": "stream",
          "text": [
            "/var/folders/km/x299zwkn69d9gp8bjngqydw80000gn/T/ipykernel_6026/1047736500.py:2: PydanticDeprecatedSince20: The `schema_json` method is deprecated; use `model_json_schema` and json.dumps instead. Deprecated in Pydantic V2.0 to be removed in V3.0. See Pydantic V2 Migration Guide at https://errors.pydantic.dev/2.11/migration/\n",
            "  print(Model.schema_json(indent=2))\n"
          ]
        }
      ],
      "source": [
        "Model = infer_pydantic_model(df, model_name=\"UserWithArrow\", force_optional=True)\n",
        "print(Model.schema_json(indent=2))"
      ]
    },
    {
      "cell_type": "markdown",
      "metadata": {},
      "source": [
        "## 🧾 Create and inspect an instance using the inferred model"
      ]
    },
    {
      "cell_type": "code",
      "execution_count": 7,
      "metadata": {},
      "outputs": [
        {
          "name": "stdout",
          "output_type": "stream",
          "text": [
            "id=4 name='Diana' score=99.1 metadata=metadata_NestedModel(active=1, level=7)\n"
          ]
        }
      ],
      "source": [
        "instance = Model(\n",
        "    id=4,\n",
        "    name=\"Diana\",\n",
        "    score=99.1,\n",
        "    metadata={\"level\": 7, \"active\": True}\n",
        ")\n",
        "print(instance)"
      ]
    },
    {
      "cell_type": "markdown",
      "id": "ff6a81f8",
      "metadata": {},
      "source": [
        "## Generate Class Code"
      ]
    },
    {
      "cell_type": "code",
      "execution_count": 8,
      "id": "77c37acb",
      "metadata": {},
      "outputs": [
        {
          "name": "stdout",
          "output_type": "stream",
          "text": [
            "# generated by datamodel-codegen:\n",
            "#   filename:  schema.json\n",
            "#   timestamp: 2025-07-07T00:11:28+00:00\n",
            "\n",
            "from __future__ import annotations\n",
            "\n",
            "from typing import Any, Optional\n",
            "\n",
            "from pydantic import BaseModel, Field\n",
            "\n",
            "\n",
            "class MetadataNestedModel(BaseModel):\n",
            "    active: Optional[int] = Field(None, title='Active')\n",
            "    level: Optional[int] = Field(None, title='Level')\n",
            "\n",
            "\n",
            "class UserWithArrow(BaseModel):\n",
            "    id: Optional[int] = Field(None, title='Id')\n",
            "    name: Any = Field(None, title='Name')\n",
            "    score: Optional[float] = Field(None, title='Score')\n",
            "    metadata: Optional[MetadataNestedModel] = None\n",
            "\n"
          ]
        }
      ],
      "source": [
        "print(generate_class_code(Model, model_name=\"UserWithArrow\"))"
      ]
    }
  ],
  "metadata": {
    "kernelspec": {
      "display_name": ".venv",
      "language": "python",
      "name": "python3"
    },
    "language_info": {
      "codemirror_mode": {
        "name": "ipython",
        "version": 3
      },
      "file_extension": ".py",
      "mimetype": "text/x-python",
      "name": "python",
      "nbconvert_exporter": "python",
      "pygments_lexer": "ipython3",
      "version": "3.9.6"
    }
  },
  "nbformat": 4,
  "nbformat_minor": 5
}
