{
 "cells": [
  {
   "cell_type": "code",
   "execution_count": 1,
   "id": "ab7f0606",
   "metadata": {},
   "outputs": [],
   "source": [
    "# Pandas Nested Inference Example\n",
    "import pandas as pd\n",
    "from articuno import df_to_pydantic, generate_class_code\n"
   ]
  },
  {
   "cell_type": "code",
   "execution_count": 3,
   "id": "0dc8f159",
   "metadata": {},
   "outputs": [
    {
     "name": "stdout",
     "output_type": "stream",
     "text": [
      "<generator object df_to_pydantic.<locals>.<genexpr> at 0x119072eb0>\n"
     ]
    }
   ],
   "source": [
    "df = pd.DataFrame({\n",
    "    \"info\": [{\"x\": 1}, {\"x\": None}, {\"x\": 3}],\n",
    "    \"label\": [\"yes\", \"no\", \"maybe\"]\n",
    "})\n",
    "models = df_to_pydantic(df)\n",
    "print(models)"
   ]
  },
  {
   "cell_type": "code",
   "execution_count": null,
   "id": "d350ced7",
   "metadata": {},
   "outputs": [],
   "source": [
    "Model = models[0].__class__\n",
    "print(generate_class_code(Model))"
   ]
  }
 ],
 "metadata": {
  "kernelspec": {
   "display_name": ".venv",
   "language": "python",
   "name": "python3"
  },
  "language_info": {
   "codemirror_mode": {
    "name": "ipython",
    "version": 3
   },
   "file_extension": ".py",
   "mimetype": "text/x-python",
   "name": "python",
   "nbconvert_exporter": "python",
   "pygments_lexer": "ipython3",
   "version": "3.9.6"
  }
 },
 "nbformat": 4,
 "nbformat_minor": 5
}
