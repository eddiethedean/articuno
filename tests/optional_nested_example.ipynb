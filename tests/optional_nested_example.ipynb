{
 "cells": [
  {
   "cell_type": "markdown",
   "id": "17998caf",
   "metadata": {},
   "source": [
    "# 🧪 Articuno: Optional + Nested Fields Example"
   ]
  },
  {
   "cell_type": "code",
   "execution_count": 1,
   "id": "16a6ae5f",
   "metadata": {},
   "outputs": [
    {
     "ename": "ImportError",
     "evalue": "cannot import name 'infer_pydantic_model' from 'articuno.pandas_infer' (/Users/odosmatthews/Documents/coding/articuno/articuno/pandas_infer.py)",
     "output_type": "error",
     "traceback": [
      "\u001b[0;31m---------------------------------------------------------------------------\u001b[0m",
      "\u001b[0;31mImportError\u001b[0m                               Traceback (most recent call last)",
      "Cell \u001b[0;32mIn[1], line 2\u001b[0m\n\u001b[1;32m      1\u001b[0m \u001b[38;5;28;01mimport\u001b[39;00m\u001b[38;5;250m \u001b[39m\u001b[38;5;21;01mpandas\u001b[39;00m\u001b[38;5;250m \u001b[39m\u001b[38;5;28;01mas\u001b[39;00m\u001b[38;5;250m \u001b[39m\u001b[38;5;21;01mpd\u001b[39;00m\n\u001b[0;32m----> 2\u001b[0m \u001b[38;5;28;01mfrom\u001b[39;00m\u001b[38;5;250m \u001b[39m\u001b[38;5;21;01marticuno\u001b[39;00m\u001b[38;5;250m \u001b[39m\u001b[38;5;28;01mimport\u001b[39;00m df_to_pydantic, generate_class_code\n",
      "File \u001b[0;32m~/Documents/coding/articuno/articuno/__init__.py:1\u001b[0m\n\u001b[0;32m----> 1\u001b[0m \u001b[38;5;28;01mfrom\u001b[39;00m\u001b[38;5;250m \u001b[39m\u001b[38;5;21;01m.\u001b[39;00m\u001b[38;5;21;01minference\u001b[39;00m\u001b[38;5;250m \u001b[39m\u001b[38;5;28;01mimport\u001b[39;00m df_to_pydantic\n\u001b[1;32m      2\u001b[0m \u001b[38;5;28;01mfrom\u001b[39;00m\u001b[38;5;250m \u001b[39m\u001b[38;5;21;01m.\u001b[39;00m\u001b[38;5;21;01mcodegen\u001b[39;00m\u001b[38;5;250m \u001b[39m\u001b[38;5;28;01mimport\u001b[39;00m generate_class_code\n\u001b[1;32m      4\u001b[0m __all__ \u001b[38;5;241m=\u001b[39m [\n\u001b[1;32m      5\u001b[0m     \u001b[38;5;124m\"\u001b[39m\u001b[38;5;124mdf_to_pydantic\u001b[39m\u001b[38;5;124m\"\u001b[39m,\n\u001b[1;32m      6\u001b[0m     \u001b[38;5;124m\"\u001b[39m\u001b[38;5;124mgenerate_class_code\u001b[39m\u001b[38;5;124m\"\u001b[39m,\n\u001b[1;32m      7\u001b[0m ]\n",
      "File \u001b[0;32m~/Documents/coding/articuno/articuno/inference.py:24\u001b[0m\n\u001b[1;32m     21\u001b[0m     _has_pandas \u001b[38;5;241m=\u001b[39m \u001b[38;5;28;01mFalse\u001b[39;00m\n\u001b[1;32m     23\u001b[0m \u001b[38;5;28;01mfrom\u001b[39;00m\u001b[38;5;250m \u001b[39m\u001b[38;5;21;01m.\u001b[39;00m\u001b[38;5;21;01mpolars_infer\u001b[39;00m\u001b[38;5;250m \u001b[39m\u001b[38;5;28;01mimport\u001b[39;00m _is_polars_df, infer_pydantic_model \u001b[38;5;28;01mas\u001b[39;00m infer_polars_model\n\u001b[0;32m---> 24\u001b[0m \u001b[38;5;28;01mfrom\u001b[39;00m\u001b[38;5;250m \u001b[39m\u001b[38;5;21;01m.\u001b[39;00m\u001b[38;5;21;01mpandas_infer\u001b[39;00m\u001b[38;5;250m \u001b[39m\u001b[38;5;28;01mimport\u001b[39;00m _is_pandas_df, infer_pydantic_model \u001b[38;5;28;01mas\u001b[39;00m infer_pandas_model\n\u001b[1;32m     27\u001b[0m \u001b[38;5;28;01mdef\u001b[39;00m\u001b[38;5;250m \u001b[39m\u001b[38;5;21mdf_to_pydantic\u001b[39m(\n\u001b[1;32m     28\u001b[0m     df: Union[\u001b[38;5;124m\"\u001b[39m\u001b[38;5;124mpl.DataFrame\u001b[39m\u001b[38;5;124m\"\u001b[39m, \u001b[38;5;124m\"\u001b[39m\u001b[38;5;124mpd.DataFrame\u001b[39m\u001b[38;5;124m\"\u001b[39m],\n\u001b[1;32m     29\u001b[0m     model: Optional[Type[BaseModel]] \u001b[38;5;241m=\u001b[39m \u001b[38;5;28;01mNone\u001b[39;00m,\n\u001b[1;32m     30\u001b[0m     model_name: Optional[\u001b[38;5;28mstr\u001b[39m] \u001b[38;5;241m=\u001b[39m \u001b[38;5;28;01mNone\u001b[39;00m,\n\u001b[1;32m     31\u001b[0m ) \u001b[38;5;241m-\u001b[39m\u001b[38;5;241m>\u001b[39m List[BaseModel]:\n\u001b[1;32m     32\u001b[0m \u001b[38;5;250m    \u001b[39m\u001b[38;5;124;03m\"\"\"\u001b[39;00m\n\u001b[1;32m     33\u001b[0m \u001b[38;5;124;03m    Infer a Pydantic model class from a Polars or Pandas DataFrame and return instances for each row.\u001b[39;00m\n\u001b[1;32m     34\u001b[0m \n\u001b[0;32m   (...)\u001b[0m\n\u001b[1;32m     44\u001b[0m \u001b[38;5;124;03m        TypeError: If the input is not a Polars or Pandas DataFrame.\u001b[39;00m\n\u001b[1;32m     45\u001b[0m \u001b[38;5;124;03m    \"\"\"\u001b[39;00m\n",
      "\u001b[0;31mImportError\u001b[0m: cannot import name 'infer_pydantic_model' from 'articuno.pandas_infer' (/Users/odosmatthews/Documents/coding/articuno/articuno/pandas_infer.py)"
     ]
    }
   ],
   "source": [
    "import pandas as pd\n",
    "from articuno import df_to_pydantic, generate_class_code\n"
   ]
  },
  {
   "cell_type": "markdown",
   "id": "afb3c9fe",
   "metadata": {},
   "source": [
    "### 👇 Define a DataFrame with nested and optional fields"
   ]
  },
  {
   "cell_type": "code",
   "execution_count": null,
   "id": "638886a6",
   "metadata": {},
   "outputs": [],
   "source": [
    "df = pd.DataFrame({\n",
    "    \"user\": [{\"name\": \"Alice\"}, {\"name\": \"Bob\"}, None],\n",
    "    \"score\": [95, None, 87]\n",
    "})\n",
    "df\n"
   ]
  },
  {
   "cell_type": "markdown",
   "id": "808f8529",
   "metadata": {},
   "source": [
    "### 🧠 Infer the Pydantic model"
   ]
  },
  {
   "cell_type": "code",
   "execution_count": null,
   "id": "e0bdc866",
   "metadata": {},
   "outputs": [],
   "source": [
    "models = df_to_pydantic(df, model_name=\"UserRecord\")\n",
    "models[0]\n"
   ]
  },
  {
   "cell_type": "markdown",
   "id": "57d085ff",
   "metadata": {},
   "source": [
    "### 🧾 View the generated model code"
   ]
  },
  {
   "cell_type": "code",
   "execution_count": null,
   "id": "135c8417",
   "metadata": {},
   "outputs": [],
   "source": [
    "Model = models[0].__class__\n",
    "print(generate_class_code(Model))\n"
   ]
  }
 ],
 "metadata": {
  "kernelspec": {
   "display_name": ".venv",
   "language": "python",
   "name": "python3"
  },
  "language_info": {
   "codemirror_mode": {
    "name": "ipython",
    "version": 3
   },
   "file_extension": ".py",
   "mimetype": "text/x-python",
   "name": "python",
   "nbconvert_exporter": "python",
   "pygments_lexer": "ipython3",
   "version": "3.9.6"
  }
 },
 "nbformat": 4,
 "nbformat_minor": 5
}
