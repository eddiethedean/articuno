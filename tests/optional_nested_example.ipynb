{
 "cells": [
  {
   "cell_type": "markdown",
   "id": "17998caf",
   "metadata": {},
   "source": [
    "# 🧪 Articuno: Optional + Nested Fields Example"
   ]
  },
  {
   "cell_type": "code",
   "execution_count": 1,
   "id": "16a6ae5f",
   "metadata": {},
   "outputs": [],
   "source": [
    "import polars as pl\n",
    "from articuno import df_to_pydantic, generate_class_code\n"
   ]
  },
  {
   "cell_type": "markdown",
   "id": "afb3c9fe",
   "metadata": {},
   "source": [
    "### 👇 Define a DataFrame with nested and optional fields"
   ]
  },
  {
   "cell_type": "code",
   "execution_count": 2,
   "id": "638886a6",
   "metadata": {},
   "outputs": [
    {
     "data": {
      "text/html": [
       "<div><style>\n",
       ".dataframe > thead > tr,\n",
       ".dataframe > tbody > tr {\n",
       "  text-align: right;\n",
       "  white-space: pre-wrap;\n",
       "}\n",
       "</style>\n",
       "<small>shape: (3, 2)</small><table border=\"1\" class=\"dataframe\"><thead><tr><th>user</th><th>score</th></tr><tr><td>struct[1]</td><td>i64</td></tr></thead><tbody><tr><td>{&quot;Alice&quot;}</td><td>95</td></tr><tr><td>{&quot;Bob&quot;}</td><td>null</td></tr><tr><td>null</td><td>87</td></tr></tbody></table></div>"
      ],
      "text/plain": [
       "shape: (3, 2)\n",
       "┌───────────┬───────┐\n",
       "│ user      ┆ score │\n",
       "│ ---       ┆ ---   │\n",
       "│ struct[1] ┆ i64   │\n",
       "╞═══════════╪═══════╡\n",
       "│ {\"Alice\"} ┆ 95    │\n",
       "│ {\"Bob\"}   ┆ null  │\n",
       "│ null      ┆ 87    │\n",
       "└───────────┴───────┘"
      ]
     },
     "execution_count": 2,
     "metadata": {},
     "output_type": "execute_result"
    }
   ],
   "source": [
    "df = pl.DataFrame({\n",
    "    \"user\": [{\"name\": \"Alice\"}, {\"name\": \"Bob\"}, None],\n",
    "    \"score\": [95, None, 87]\n",
    "})\n",
    "df\n"
   ]
  },
  {
   "cell_type": "markdown",
   "id": "808f8529",
   "metadata": {},
   "source": [
    "### 🧠 Infer the Pydantic model"
   ]
  },
  {
   "cell_type": "code",
   "execution_count": 5,
   "id": "e0bdc866",
   "metadata": {},
   "outputs": [
    {
     "data": {
      "text/plain": [
       "[UserRecord(user=UserRecord_0_Struct(name='Alice'), score=95),\n",
       " UserRecord(user=UserRecord_0_Struct(name='Bob'), score=None),\n",
       " UserRecord(user=None, score=87)]"
      ]
     },
     "execution_count": 5,
     "metadata": {},
     "output_type": "execute_result"
    }
   ],
   "source": [
    "models = df_to_pydantic(df, model_name=\"UserRecord\")\n",
    "list(models)\n"
   ]
  }
 ],
 "metadata": {
  "kernelspec": {
   "display_name": ".venv",
   "language": "python",
   "name": "python3"
  },
  "language_info": {
   "codemirror_mode": {
    "name": "ipython",
    "version": 3
   },
   "file_extension": ".py",
   "mimetype": "text/x-python",
   "name": "python",
   "nbconvert_exporter": "python",
   "pygments_lexer": "ipython3",
   "version": "3.9.6"
  }
 },
 "nbformat": 4,
 "nbformat_minor": 5
}
